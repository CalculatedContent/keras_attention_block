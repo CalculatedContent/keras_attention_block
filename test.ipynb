{
 "cells": [
  {
   "cell_type": "code",
   "execution_count": 1,
   "metadata": {
    "collapsed": false
   },
   "outputs": [
    {
     "name": "stderr",
     "output_type": "stream",
     "text": [
      "Using TensorFlow backend.\n"
     ]
    }
   ],
   "source": [
    "import keras"
   ]
  },
  {
   "cell_type": "code",
   "execution_count": 2,
   "metadata": {
    "collapsed": true
   },
   "outputs": [],
   "source": [
    "from collections.abc import Callable,Sequence"
   ]
  },
  {
   "cell_type": "code",
   "execution_count": 3,
   "metadata": {
    "collapsed": true
   },
   "outputs": [],
   "source": [
    "from keras.layers import merge\n",
    "from keras.layers.core import *\n",
    "from keras.layers.recurrent import LSTM\n",
    "from keras.layers import Convolution2D\n",
    "from keras.models import *"
   ]
  },
  {
   "cell_type": "code",
   "execution_count": 4,
   "metadata": {
    "collapsed": false
   },
   "outputs": [],
   "source": [
    "from keras_attention_block import *"
   ]
  },
  {
   "cell_type": "code",
   "execution_count": 5,
   "metadata": {
    "collapsed": true
   },
   "outputs": [],
   "source": [
    "INPUT_DIM = 32\n",
    "TIME_STEPS = 20\n",
    "SINGLE_ATTENTION_VECTOR = False\n",
    "APPLY_ATTENTION_BEFORE_LSTM = False"
   ]
  },
  {
   "cell_type": "code",
   "execution_count": 6,
   "metadata": {
    "collapsed": false
   },
   "outputs": [
    {
     "name": "stdout",
     "output_type": "stream",
     "text": [
      "_________________________________________________________________\n",
      "Layer (type)                 Output Shape              Param #   \n",
      "=================================================================\n",
      "input_1 (InputLayer)         (None, 20, 32)            0         \n",
      "_________________________________________________________________\n",
      "self_attention1d_layer_1 (Se (None, 20, 32)            1560      \n",
      "_________________________________________________________________\n",
      "lstm_1 (LSTM)                (None, 32)                8320      \n",
      "_________________________________________________________________\n",
      "dense_1 (Dense)              (None, 1)                 33        \n",
      "=================================================================\n",
      "Total params: 9,913\n",
      "Trainable params: 9,913\n",
      "Non-trainable params: 0\n",
      "_________________________________________________________________\n",
      "None\n"
     ]
    }
   ],
   "source": [
    "inputs = Input(shape=(TIME_STEPS, INPUT_DIM))\n",
    "attention_mul =  SelfAttention1DLayer(kernel_size=(20,30),similarity=\"additive\")(inputs)#MyLayer((20,32))(inputs)#\n",
    "lstm_units = 32\n",
    "attention_mul = LSTM(lstm_units, return_sequences=False)(attention_mul)\n",
    "output = Dense(1, activation='sigmoid')(attention_mul)\n",
    "m = Model(inputs=[inputs], outputs=output)\n",
    "\n",
    "m.compile(optimizer='adam', loss='binary_crossentropy', metrics=['accuracy'])\n",
    "print(m.summary())"
   ]
  },
  {
   "cell_type": "code",
   "execution_count": 7,
   "metadata": {
    "collapsed": true
   },
   "outputs": [],
   "source": [
    "X = 30\n",
    "Y = 20"
   ]
  },
  {
   "cell_type": "code",
   "execution_count": 8,
   "metadata": {
    "collapsed": false
   },
   "outputs": [
    {
     "name": "stdout",
     "output_type": "stream",
     "text": [
      "_________________________________________________________________\n",
      "Layer (type)                 Output Shape              Param #   \n",
      "=================================================================\n",
      "input_2 (InputLayer)         (None, 30, 20, 32)        0         \n",
      "_________________________________________________________________\n",
      "self_attention2d_layer_1 (Se (None, 20, 30, 32)        6320      \n",
      "_________________________________________________________________\n",
      "conv2d_1 (Conv2D)            (None, 20, 30, 2)         258       \n",
      "_________________________________________________________________\n",
      "dense_2 (Dense)              (None, 20, 30, 1)         3         \n",
      "=================================================================\n",
      "Total params: 6,581\n",
      "Trainable params: 6,581\n",
      "Non-trainable params: 0\n",
      "_________________________________________________________________\n",
      "None\n"
     ]
    }
   ],
   "source": [
    "inputs = Input(shape=(X,Y,INPUT_DIM))\n",
    "attention_mul =  SelfAttention2DLayer(output_size=(20,30),similarity=\"additive\",d_a=10)(inputs)#MyLayer((20,32))(inputs)#\n",
    "lstm_units = 32\n",
    "attention_mul = Convolution2D(2,2,padding='same', activation= \"relu\")(attention_mul)\n",
    "output = Dense(1, activation='sigmoid')(attention_mul)\n",
    "m = Model(inputs=[inputs], outputs=output)\n",
    "\n",
    "m.compile(optimizer='adam', loss='binary_crossentropy', metrics=['accuracy'])\n",
    "print(m.summary())"
   ]
  },
  {
   "cell_type": "code",
   "execution_count": 9,
   "metadata": {
    "collapsed": true
   },
   "outputs": [],
   "source": [
    "TIME_STEPS_Q = 10"
   ]
  },
  {
   "cell_type": "code",
   "execution_count": 10,
   "metadata": {
    "collapsed": false
   },
   "outputs": [
    {
     "name": "stdout",
     "output_type": "stream",
     "text": [
      "__________________________________________________________________________________________________\n",
      "Layer (type)                    Output Shape         Param #     Connected to                     \n",
      "==================================================================================================\n",
      "input_3 (InputLayer)            (None, 20, 32)       0                                            \n",
      "__________________________________________________________________________________________________\n",
      "input_4 (InputLayer)            (None, 10, 32)       0                                            \n",
      "__________________________________________________________________________________________________\n",
      "attention1d_layer_1 (Attention1 (None, 10, 32)       940         input_3[0][0]                    \n",
      "                                                                 input_4[0][0]                    \n",
      "__________________________________________________________________________________________________\n",
      "lstm_2 (LSTM)                   (None, 32)           8320        attention1d_layer_1[0][0]        \n",
      "__________________________________________________________________________________________________\n",
      "dense_3 (Dense)                 (None, 1)            33          lstm_2[0][0]                     \n",
      "==================================================================================================\n",
      "Total params: 9,293\n",
      "Trainable params: 9,293\n",
      "Non-trainable params: 0\n",
      "__________________________________________________________________________________________________\n",
      "None\n"
     ]
    }
   ],
   "source": [
    "inputs_1 = Input(shape=(TIME_STEPS, INPUT_DIM))\n",
    "inputs_Q = Input(shape=(TIME_STEPS_Q, INPUT_DIM))\n",
    "inputs = [inputs_1,inputs_Q]\n",
    "attention_mul =  Attention1DLayer(similarity=\"additive\")(inputs)#MyLayer((20,32))(inputs)#\n",
    "lstm_units = 32\n",
    "attention_mul = LSTM(lstm_units, return_sequences=False)(attention_mul)\n",
    "output = Dense(1, activation='sigmoid')(attention_mul)\n",
    "m = Model(inputs=inputs, outputs=output)\n",
    "\n",
    "m.compile(optimizer='adam', loss='binary_crossentropy', metrics=['accuracy'])\n",
    "print(m.summary())"
   ]
  },
  {
   "cell_type": "code",
   "execution_count": 11,
   "metadata": {
    "collapsed": false
   },
   "outputs": [],
   "source": [
    "Xq=13\n",
    "Yq=12"
   ]
  },
  {
   "cell_type": "code",
   "execution_count": 12,
   "metadata": {
    "collapsed": false
   },
   "outputs": [
    {
     "name": "stdout",
     "output_type": "stream",
     "text": [
      "__________________________________________________________________________________________________\n",
      "Layer (type)                    Output Shape         Param #     Connected to                     \n",
      "==================================================================================================\n",
      "input_5 (InputLayer)            (None, 30, 20, 32)   0                                            \n",
      "__________________________________________________________________________________________________\n",
      "input_6 (InputLayer)            (None, 13, 12, 32)   0                                            \n",
      "__________________________________________________________________________________________________\n",
      "attention2d_layer_1 (Attention2 (None, 12, 13, 32)   137136      input_5[0][0]                    \n",
      "                                                                 input_6[0][0]                    \n",
      "__________________________________________________________________________________________________\n",
      "conv2d_2 (Conv2D)               (None, 12, 13, 2)    258         attention2d_layer_1[0][0]        \n",
      "__________________________________________________________________________________________________\n",
      "dense_4 (Dense)                 (None, 12, 13, 1)    3           conv2d_2[0][0]                   \n",
      "==================================================================================================\n",
      "Total params: 137,397\n",
      "Trainable params: 137,397\n",
      "Non-trainable params: 0\n",
      "__________________________________________________________________________________________________\n",
      "None\n"
     ]
    }
   ],
   "source": [
    "inputs_1 = Input(shape=(X,Y, INPUT_DIM))\n",
    "inputs_Q = Input(shape=(Xq,Yq, INPUT_DIM))\n",
    "inputs = [inputs_1,inputs_Q]\n",
    "attention_mul =  Attention2DLayer(output_size=(12,13),similarity=\"additive\")(inputs)#MyLayer((20,32))(inputs)#\n",
    "lstm_units = 32\n",
    "attention_mul = Convolution2D(2,2,padding='same', activation= \"relu\")(attention_mul)\n",
    "output = Dense(1, activation='sigmoid')(attention_mul)\n",
    "m = Model(inputs=inputs, outputs=output)\n",
    "\n",
    "m.compile(optimizer='adam', loss='binary_crossentropy', metrics=['accuracy'])\n",
    "print(m.summary())"
   ]
  },
  {
   "cell_type": "code",
   "execution_count": 13,
   "metadata": {
    "collapsed": true
   },
   "outputs": [],
   "source": [
    "DIM_V = 64"
   ]
  },
  {
   "cell_type": "code",
   "execution_count": 14,
   "metadata": {
    "collapsed": false
   },
   "outputs": [
    {
     "name": "stdout",
     "output_type": "stream",
     "text": [
      "__________________________________________________________________________________________________\n",
      "Layer (type)                    Output Shape         Param #     Connected to                     \n",
      "==================================================================================================\n",
      "input_7 (InputLayer)            (None, 20, 32)       0                                            \n",
      "__________________________________________________________________________________________________\n",
      "input_8 (InputLayer)            (None, 20, 64)       0                                            \n",
      "__________________________________________________________________________________________________\n",
      "input_9 (InputLayer)            (None, 10, 32)       0                                            \n",
      "__________________________________________________________________________________________________\n",
      "key_value_attention1d_layer_1 ( (None, 10, 64)       940         input_7[0][0]                    \n",
      "                                                                 input_8[0][0]                    \n",
      "                                                                 input_9[0][0]                    \n",
      "__________________________________________________________________________________________________\n",
      "lstm_3 (LSTM)                   (None, 32)           12416       key_value_attention1d_layer_1[0][\n",
      "__________________________________________________________________________________________________\n",
      "dense_5 (Dense)                 (None, 1)            33          lstm_3[0][0]                     \n",
      "==================================================================================================\n",
      "Total params: 13,389\n",
      "Trainable params: 13,389\n",
      "Non-trainable params: 0\n",
      "__________________________________________________________________________________________________\n",
      "None\n"
     ]
    }
   ],
   "source": [
    "inputs_K = Input(shape=(TIME_STEPS, INPUT_DIM))\n",
    "inputs_V = Input(shape=(TIME_STEPS, DIM_V))\n",
    "inputs_Q = Input(shape=(TIME_STEPS_Q, INPUT_DIM))\n",
    "inputs = [inputs_K,inputs_V ,inputs_Q]\n",
    "attention_mul =  KeyValueAttention1DLayer(similarity=\"additive\")(inputs)#MyLayer((20,32))(inputs)#\n",
    "lstm_units = 32\n",
    "attention_mul = LSTM(lstm_units, return_sequences=False)(attention_mul)\n",
    "output = Dense(1, activation='sigmoid')(attention_mul)\n",
    "m = Model(inputs=inputs, outputs=output)\n",
    "\n",
    "m.compile(optimizer='adam', loss='binary_crossentropy', metrics=['accuracy'])\n",
    "print(m.summary())"
   ]
  },
  {
   "cell_type": "code",
   "execution_count": 15,
   "metadata": {
    "collapsed": false
   },
   "outputs": [
    {
     "name": "stdout",
     "output_type": "stream",
     "text": [
      "__________________________________________________________________________________________________\n",
      "Layer (type)                    Output Shape         Param #     Connected to                     \n",
      "==================================================================================================\n",
      "input_10 (InputLayer)           (None, 30, 20, 32)   0                                            \n",
      "__________________________________________________________________________________________________\n",
      "input_11 (InputLayer)           (None, 30, 20, 64)   0                                            \n",
      "__________________________________________________________________________________________________\n",
      "input_12 (InputLayer)           (None, 13, 12, 32)   0                                            \n",
      "__________________________________________________________________________________________________\n",
      "key_value_attention2d_layer_1 ( (None, 12, 13, 32)   137136      input_10[0][0]                   \n",
      "                                                                 input_11[0][0]                   \n",
      "                                                                 input_12[0][0]                   \n",
      "__________________________________________________________________________________________________\n",
      "conv2d_3 (Conv2D)               (None, 12, 13, 2)    258         key_value_attention2d_layer_1[0][\n",
      "__________________________________________________________________________________________________\n",
      "dense_6 (Dense)                 (None, 12, 13, 1)    3           conv2d_3[0][0]                   \n",
      "==================================================================================================\n",
      "Total params: 137,397\n",
      "Trainable params: 137,397\n",
      "Non-trainable params: 0\n",
      "__________________________________________________________________________________________________\n",
      "None\n"
     ]
    }
   ],
   "source": [
    "inputs_K = Input(shape=(X,Y, INPUT_DIM))\n",
    "inputs_V = Input(shape=(X,Y, DIM_V))\n",
    "inputs_Q = Input(shape=(Xq,Yq, INPUT_DIM))\n",
    "inputs = [inputs_K,inputs_V,inputs_Q]\n",
    "attention_mul =  KeyValueAttention2DLayer(output_size=(12,13),similarity=\"additive\")(inputs)#MyLayer((20,32))(inputs)#\n",
    "lstm_units = 32\n",
    "attention_mul = Convolution2D(2,2,padding='same', activation= \"relu\")(attention_mul)\n",
    "output = Dense(1, activation='sigmoid')(attention_mul)\n",
    "m = Model(inputs=inputs, outputs=output)\n",
    "\n",
    "m.compile(optimizer='adam', loss='binary_crossentropy', metrics=['accuracy'])\n",
    "print(m.summary())"
   ]
  },
  {
   "cell_type": "code",
   "execution_count": null,
   "metadata": {
    "collapsed": true
   },
   "outputs": [],
   "source": []
  }
 ],
 "metadata": {
  "kernelspec": {
   "display_name": "Python 3",
   "language": "python",
   "name": "python3"
  },
  "language_info": {
   "codemirror_mode": {
    "name": "ipython",
    "version": 3
   },
   "file_extension": ".py",
   "mimetype": "text/x-python",
   "name": "python",
   "nbconvert_exporter": "python",
   "pygments_lexer": "ipython3",
   "version": "3.6.0"
  }
 },
 "nbformat": 4,
 "nbformat_minor": 2
}
