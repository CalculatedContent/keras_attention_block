{
 "cells": [
  {
   "cell_type": "code",
   "execution_count": 1,
   "metadata": {
    "collapsed": false
   },
   "outputs": [
    {
     "name": "stderr",
     "output_type": "stream",
     "text": [
      "Using TensorFlow backend.\n"
     ]
    }
   ],
   "source": [
    "import keras"
   ]
  },
  {
   "cell_type": "code",
   "execution_count": 2,
   "metadata": {
    "collapsed": true
   },
   "outputs": [],
   "source": [
    "import numpy as np\n",
    "import math"
   ]
  },
  {
   "cell_type": "code",
   "execution_count": 3,
   "metadata": {
    "collapsed": true
   },
   "outputs": [],
   "source": [
    "from collections.abc import Callable,Sequence"
   ]
  },
  {
   "cell_type": "code",
   "execution_count": 4,
   "metadata": {
    "collapsed": false
   },
   "outputs": [],
   "source": [
    "from keras.layers import merge\n",
    "from keras.layers.core import *\n",
    "from keras.layers.recurrent import LSTM\n",
    "from keras.layers import Convolution2D\n",
    "from keras.models import *\n",
    "from keras.layers.normalization import BatchNormalization"
   ]
  },
  {
   "cell_type": "code",
   "execution_count": 5,
   "metadata": {
    "collapsed": false
   },
   "outputs": [],
   "source": [
    "from keras_attention_block import *"
   ]
  },
  {
   "cell_type": "code",
   "execution_count": 6,
   "metadata": {
    "collapsed": true
   },
   "outputs": [],
   "source": [
    "INPUT_DIM = 32\n",
    "TIME_STEPS = 20\n",
    "SINGLE_ATTENTION_VECTOR = False\n",
    "APPLY_ATTENTION_BEFORE_LSTM = False"
   ]
  },
  {
   "cell_type": "code",
   "execution_count": 7,
   "metadata": {
    "collapsed": false
   },
   "outputs": [
    {
     "name": "stdout",
     "output_type": "stream",
     "text": [
      "Tensor(\"self_attention1d_layer_1/dropout/mul:0\", shape=(?, 20, 20), dtype=float32)\n",
      "_________________________________________________________________\n",
      "Layer (type)                 Output Shape              Param #   \n",
      "=================================================================\n",
      "input_1 (InputLayer)         (None, 20, 32)            0         \n",
      "_________________________________________________________________\n",
      "self_attention1d_layer_1 (Se (None, 20, 32)            1024      \n",
      "_________________________________________________________________\n",
      "flatten_1 (Flatten)          (None, 640)               0         \n",
      "_________________________________________________________________\n",
      "dense_1 (Dense)              (None, 1)                 641       \n",
      "=================================================================\n",
      "Total params: 1,665\n",
      "Trainable params: 1,665\n",
      "Non-trainable params: 0\n",
      "_________________________________________________________________\n",
      "None\n"
     ]
    }
   ],
   "source": [
    "inputs = Input(shape=(TIME_STEPS, INPUT_DIM))\n",
    "attention_mul =  SelfAttention1DLayer(similarity=\"multiplicative\",dropout_rate=0.2)(inputs)#MyLayer((20,32))(inputs)#\n",
    "lstm_units = 32\n",
    "#attention_mul = LSTM(lstm_units, return_sequences=False)(attention_mul)\n",
    "attention_mul = Flatten()(attention_mul)\n",
    "output = Dense(1, activation='sigmoid')(attention_mul)\n",
    "m = Model(inputs=[inputs], outputs=output)\n",
    "\n",
    "m.compile(optimizer='adam', loss='binary_crossentropy', metrics=['accuracy'])\n",
    "print(m.summary())"
   ]
  },
  {
   "cell_type": "code",
   "execution_count": 22,
   "metadata": {
    "collapsed": false
   },
   "outputs": [
    {
     "name": "stdout",
     "output_type": "stream",
     "text": [
      "Tensor(\"batch_normalization_5/cond/Merge:0\", shape=(?, 20, 32), dtype=float32)\n",
      "__________________________________________________________________________________________________\n",
      "Layer (type)                    Output Shape         Param #     Connected to                     \n",
      "==================================================================================================\n",
      "input_9 (InputLayer)            (None, 20, 32)       0                                            \n",
      "__________________________________________________________________________________________________\n",
      "mulithead_SelfAttention1DLayeri (None, 20, 60)       1980        input_9[0][0]                    \n",
      "__________________________________________________________________________________________________\n",
      "lambda_9 (Lambda)               [(None, 20, 12), (No 0           mulithead_SelfAttention1DLayerinp\n",
      "__________________________________________________________________________________________________\n",
      "self_attention1d_layer_27 (Self (None, 20, 12)       0           lambda_9[0][0]                   \n",
      "__________________________________________________________________________________________________\n",
      "self_attention1d_layer_28 (Self (None, 20, 12)       0           lambda_9[0][1]                   \n",
      "__________________________________________________________________________________________________\n",
      "self_attention1d_layer_29 (Self (None, 20, 12)       0           lambda_9[0][2]                   \n",
      "__________________________________________________________________________________________________\n",
      "self_attention1d_layer_30 (Self (None, 20, 12)       0           lambda_9[0][3]                   \n",
      "__________________________________________________________________________________________________\n",
      "self_attention1d_layer_31 (Self (None, 20, 12)       0           lambda_9[0][4]                   \n",
      "__________________________________________________________________________________________________\n",
      "lambda_10 (Lambda)              (None, 20, 60)       0           self_attention1d_layer_27[0][0]  \n",
      "                                                                 self_attention1d_layer_28[0][0]  \n",
      "                                                                 self_attention1d_layer_29[0][0]  \n",
      "                                                                 self_attention1d_layer_30[0][0]  \n",
      "                                                                 self_attention1d_layer_31[0][0]  \n",
      "__________________________________________________________________________________________________\n",
      "mulithead_SelfAttention1DLayero (None, 20, 32)       1952        lambda_10[0][0]                  \n",
      "__________________________________________________________________________________________________\n",
      "lstm_5 (LSTM)                   (None, 32)           8320        mulithead_SelfAttention1DLayerout\n",
      "__________________________________________________________________________________________________\n",
      "dense_6 (Dense)                 (None, 1)            33          lstm_5[0][0]                     \n",
      "==================================================================================================\n",
      "Total params: 12,285\n",
      "Trainable params: 12,285\n",
      "Non-trainable params: 0\n",
      "__________________________________________________________________________________________________\n",
      "None\n"
     ]
    }
   ],
   "source": [
    "inputs = Input(shape=(TIME_STEPS, INPUT_DIM))\n",
    "attention_mul =  MulitheadAttention()([inputs])\n",
    "lstm_units = 32\n",
    "attention_mul = LSTM(lstm_units, return_sequences=False)(attention_mul)\n",
    "#attention_mul = Flatten()(attention_mul)\n",
    "output = Dense(1, activation='sigmoid')(attention_mul)\n",
    "m = Model(inputs=[inputs], outputs=output)\n",
    "\n",
    "m.compile(optimizer='adam', loss='binary_crossentropy', metrics=['accuracy'])\n",
    "print(m.summary())"
   ]
  },
  {
   "cell_type": "code",
   "execution_count": 8,
   "metadata": {
    "collapsed": false
   },
   "outputs": [
    {
     "data": {
      "text/plain": [
       "array([[-0.00046962, -0.13437381,  0.29035535, ...,  0.04400176,\n",
       "         0.13493097,  0.19176447],\n",
       "       [-0.14431356, -0.09893544, -0.21598032, ...,  0.09675521,\n",
       "        -0.16743793,  0.08992624],\n",
       "       [ 0.18732589, -0.12218887,  0.23135248, ..., -0.07824141,\n",
       "        -0.28115094, -0.1550377 ],\n",
       "       ..., \n",
       "       [ 0.21561578,  0.23300567,  0.00976214, ...,  0.22284082,\n",
       "         0.15295982, -0.29226014],\n",
       "       [-0.0414699 ,  0.17344171,  0.24474695, ..., -0.11417152,\n",
       "         0.18511939, -0.14973859],\n",
       "       [-0.14273486, -0.25315189, -0.09541084, ...,  0.04641268,\n",
       "        -0.19100825, -0.28547701]], dtype=float32)"
      ]
     },
     "execution_count": 8,
     "metadata": {},
     "output_type": "execute_result"
    }
   ],
   "source": [
    "m.layers[1].get_weights()[0]"
   ]
  },
  {
   "cell_type": "code",
   "execution_count": 9,
   "metadata": {
    "collapsed": false
   },
   "outputs": [],
   "source": [
    "#m.layers[1].get_weights()[1]"
   ]
  },
  {
   "cell_type": "code",
   "execution_count": 10,
   "metadata": {
    "collapsed": false
   },
   "outputs": [],
   "source": [
    "train_data = np.random.random((1000,20,32))"
   ]
  },
  {
   "cell_type": "code",
   "execution_count": 11,
   "metadata": {
    "collapsed": false
   },
   "outputs": [
    {
     "data": {
      "text/plain": [
       "(1000, 20, 32)"
      ]
     },
     "execution_count": 11,
     "metadata": {},
     "output_type": "execute_result"
    }
   ],
   "source": [
    "train_data.shape"
   ]
  },
  {
   "cell_type": "code",
   "execution_count": 12,
   "metadata": {
    "collapsed": true
   },
   "outputs": [],
   "source": [
    "train_lab = np.random.randint(0,2,1000)"
   ]
  },
  {
   "cell_type": "code",
   "execution_count": 13,
   "metadata": {
    "collapsed": false
   },
   "outputs": [
    {
     "name": "stdout",
     "output_type": "stream",
     "text": [
      "Epoch 1/1\n",
      "1000/1000 [==============================] - 1s 687us/step - loss: 0.7032 - acc: 0.4920\b\b\b\b\b\b\b\b\b\b\b\b\b\b\b\b\b\b\b\b\b\b\b\b\b\b\b\b\b\b\b\b\b\b\b\b\b\b\b\b\b\b\b\b\b\b\b\b\b\b\b\b\b\b\b\b\b\b\b\b\b\b\b\b\b\b\b\b\b\b\b\b\b\b\b\b\b\b\b\b\b\b\b\b\b\b\b\b\b\b\b\b\b\b\b\b\b\b\b\b\b\b\b\b\b\b\b\b\b\b\b\b\b\b\b\b\b\b\b\b\b\b\b\b\b\b\b\b\b\b\b\b\b\b\b\b\b\b\b\b\b\b\b\b\b\b\b\b\b\b\b\b\b\b\b\b\b\b\b\b\b\b\b\b\b\b\b\b\b\b\b\b\b\b\b\b\b\b\b\b\b\b\b\b\b\b\b\b\b\b\b\b\b\b\b\b\b\b\b\b\b\b\b\b\b\b\b\b\b\b\b\b\b\b\b\b\b\b\b\b\b\b\b\b\b\b\b\b\b\b\b\b\b\b\b\b\b\n"
     ]
    },
    {
     "data": {
      "text/plain": [
       "<keras.callbacks.History at 0x1c3e4198>"
      ]
     },
     "execution_count": 13,
     "metadata": {},
     "output_type": "execute_result"
    }
   ],
   "source": [
    "m.fit(train_data,train_lab , epochs=1, batch_size=100 )"
   ]
  },
  {
   "cell_type": "code",
   "execution_count": 14,
   "metadata": {
    "collapsed": false
   },
   "outputs": [
    {
     "data": {
      "text/plain": [
       "array([[ 0.00170965, -0.14133193,  0.2902357 , ...,  0.04439745,\n",
       "         0.13123532,  0.1875332 ],\n",
       "       [-0.14202532, -0.10331132, -0.2199593 , ...,  0.09738319,\n",
       "        -0.17157863,  0.08891859],\n",
       "       [ 0.19170028, -0.12526591,  0.23190276, ..., -0.08017471,\n",
       "        -0.28455481, -0.15624151],\n",
       "       ..., \n",
       "       [ 0.21603437,  0.22969134,  0.00710518, ...,  0.22416922,\n",
       "         0.14840025, -0.29681873],\n",
       "       [-0.03786365,  0.16813113,  0.24560623, ..., -0.11900105,\n",
       "         0.18439926, -0.15430583],\n",
       "       [-0.13633953, -0.26000744, -0.09758143, ...,  0.04672902,\n",
       "        -0.1919831 , -0.28431571]], dtype=float32)"
      ]
     },
     "execution_count": 14,
     "metadata": {},
     "output_type": "execute_result"
    }
   ],
   "source": [
    "m.layers[1].get_weights()[0]"
   ]
  },
  {
   "cell_type": "code",
   "execution_count": 15,
   "metadata": {
    "collapsed": false
   },
   "outputs": [],
   "source": [
    "#m.layers[1].get_weights()[1]"
   ]
  },
  {
   "cell_type": "code",
   "execution_count": 7,
   "metadata": {
    "collapsed": true
   },
   "outputs": [],
   "source": [
    "X = 30\n",
    "Y = 20"
   ]
  },
  {
   "cell_type": "code",
   "execution_count": 8,
   "metadata": {
    "collapsed": false
   },
   "outputs": [
    {
     "name": "stdout",
     "output_type": "stream",
     "text": [
      "_________________________________________________________________\n",
      "Layer (type)                 Output Shape              Param #   \n",
      "=================================================================\n",
      "input_2 (InputLayer)         (None, 30, 20, 32)        0         \n",
      "_________________________________________________________________\n",
      "self_attention2d_layer_1 (Se (None, 20, 30, 32)        6320      \n",
      "_________________________________________________________________\n",
      "conv2d_1 (Conv2D)            (None, 20, 30, 2)         258       \n",
      "_________________________________________________________________\n",
      "dense_2 (Dense)              (None, 20, 30, 1)         3         \n",
      "=================================================================\n",
      "Total params: 6,581\n",
      "Trainable params: 6,581\n",
      "Non-trainable params: 0\n",
      "_________________________________________________________________\n",
      "None\n"
     ]
    }
   ],
   "source": [
    "inputs = Input(shape=(X,Y,INPUT_DIM))\n",
    "attention_mul =  SelfAttention2DLayer(output_size=(20,30),similarity=\"additive\",d_a=10)(inputs)#MyLayer((20,32))(inputs)#\n",
    "lstm_units = 32\n",
    "attention_mul = Convolution2D(2,2,padding='same', activation= \"relu\")(attention_mul)\n",
    "output = Dense(1, activation='sigmoid')(attention_mul)\n",
    "m = Model(inputs=[inputs], outputs=output)\n",
    "\n",
    "m.compile(optimizer='adam', loss='binary_crossentropy', metrics=['accuracy'])\n",
    "print(m.summary())"
   ]
  },
  {
   "cell_type": "code",
   "execution_count": 9,
   "metadata": {
    "collapsed": true
   },
   "outputs": [],
   "source": [
    "TIME_STEPS_Q = 10"
   ]
  },
  {
   "cell_type": "code",
   "execution_count": 10,
   "metadata": {
    "collapsed": false
   },
   "outputs": [
    {
     "name": "stdout",
     "output_type": "stream",
     "text": [
      "__________________________________________________________________________________________________\n",
      "Layer (type)                    Output Shape         Param #     Connected to                     \n",
      "==================================================================================================\n",
      "input_3 (InputLayer)            (None, 20, 32)       0                                            \n",
      "__________________________________________________________________________________________________\n",
      "input_4 (InputLayer)            (None, 10, 32)       0                                            \n",
      "__________________________________________________________________________________________________\n",
      "attention1d_layer_1 (Attention1 (None, 10, 32)       940         input_3[0][0]                    \n",
      "                                                                 input_4[0][0]                    \n",
      "__________________________________________________________________________________________________\n",
      "lstm_2 (LSTM)                   (None, 32)           8320        attention1d_layer_1[0][0]        \n",
      "__________________________________________________________________________________________________\n",
      "dense_3 (Dense)                 (None, 1)            33          lstm_2[0][0]                     \n",
      "==================================================================================================\n",
      "Total params: 9,293\n",
      "Trainable params: 9,293\n",
      "Non-trainable params: 0\n",
      "__________________________________________________________________________________________________\n",
      "None\n"
     ]
    }
   ],
   "source": [
    "inputs_1 = Input(shape=(TIME_STEPS, INPUT_DIM))\n",
    "inputs_Q = Input(shape=(TIME_STEPS_Q, INPUT_DIM))\n",
    "inputs = [inputs_1,inputs_Q]\n",
    "attention_mul =  Attention1DLayer(similarity=\"additive\")(inputs)#MyLayer((20,32))(inputs)#\n",
    "lstm_units = 32\n",
    "attention_mul = LSTM(lstm_units, return_sequences=False)(attention_mul)\n",
    "output = Dense(1, activation='sigmoid')(attention_mul)\n",
    "m = Model(inputs=inputs, outputs=output)\n",
    "\n",
    "m.compile(optimizer='adam', loss='binary_crossentropy', metrics=['accuracy'])\n",
    "print(m.summary())"
   ]
  },
  {
   "cell_type": "code",
   "execution_count": 11,
   "metadata": {
    "collapsed": false
   },
   "outputs": [],
   "source": [
    "Xq=13\n",
    "Yq=12"
   ]
  },
  {
   "cell_type": "code",
   "execution_count": 12,
   "metadata": {
    "collapsed": false
   },
   "outputs": [
    {
     "name": "stdout",
     "output_type": "stream",
     "text": [
      "__________________________________________________________________________________________________\n",
      "Layer (type)                    Output Shape         Param #     Connected to                     \n",
      "==================================================================================================\n",
      "input_5 (InputLayer)            (None, 30, 20, 32)   0                                            \n",
      "__________________________________________________________________________________________________\n",
      "input_6 (InputLayer)            (None, 13, 12, 32)   0                                            \n",
      "__________________________________________________________________________________________________\n",
      "attention2d_layer_1 (Attention2 (None, 12, 13, 32)   137136      input_5[0][0]                    \n",
      "                                                                 input_6[0][0]                    \n",
      "__________________________________________________________________________________________________\n",
      "conv2d_2 (Conv2D)               (None, 12, 13, 2)    258         attention2d_layer_1[0][0]        \n",
      "__________________________________________________________________________________________________\n",
      "dense_4 (Dense)                 (None, 12, 13, 1)    3           conv2d_2[0][0]                   \n",
      "==================================================================================================\n",
      "Total params: 137,397\n",
      "Trainable params: 137,397\n",
      "Non-trainable params: 0\n",
      "__________________________________________________________________________________________________\n",
      "None\n"
     ]
    }
   ],
   "source": [
    "inputs_1 = Input(shape=(X,Y, INPUT_DIM))\n",
    "inputs_Q = Input(shape=(Xq,Yq, INPUT_DIM))\n",
    "inputs = [inputs_1,inputs_Q]\n",
    "attention_mul =  Attention2DLayer(output_size=(12,13),similarity=\"additive\")(inputs)#MyLayer((20,32))(inputs)#\n",
    "lstm_units = 32\n",
    "attention_mul = Convolution2D(2,2,padding='same', activation= \"relu\")(attention_mul)\n",
    "output = Dense(1, activation='sigmoid')(attention_mul)\n",
    "m = Model(inputs=inputs, outputs=output)\n",
    "\n",
    "m.compile(optimizer='adam', loss='binary_crossentropy', metrics=['accuracy'])\n",
    "print(m.summary())"
   ]
  },
  {
   "cell_type": "code",
   "execution_count": 13,
   "metadata": {
    "collapsed": true
   },
   "outputs": [],
   "source": [
    "DIM_V = 64"
   ]
  },
  {
   "cell_type": "code",
   "execution_count": 14,
   "metadata": {
    "collapsed": false
   },
   "outputs": [
    {
     "name": "stdout",
     "output_type": "stream",
     "text": [
      "__________________________________________________________________________________________________\n",
      "Layer (type)                    Output Shape         Param #     Connected to                     \n",
      "==================================================================================================\n",
      "input_7 (InputLayer)            (None, 20, 32)       0                                            \n",
      "__________________________________________________________________________________________________\n",
      "input_8 (InputLayer)            (None, 20, 64)       0                                            \n",
      "__________________________________________________________________________________________________\n",
      "input_9 (InputLayer)            (None, 10, 32)       0                                            \n",
      "__________________________________________________________________________________________________\n",
      "key_value_attention1d_layer_1 ( (None, 10, 64)       940         input_7[0][0]                    \n",
      "                                                                 input_8[0][0]                    \n",
      "                                                                 input_9[0][0]                    \n",
      "__________________________________________________________________________________________________\n",
      "lstm_3 (LSTM)                   (None, 32)           12416       key_value_attention1d_layer_1[0][\n",
      "__________________________________________________________________________________________________\n",
      "dense_5 (Dense)                 (None, 1)            33          lstm_3[0][0]                     \n",
      "==================================================================================================\n",
      "Total params: 13,389\n",
      "Trainable params: 13,389\n",
      "Non-trainable params: 0\n",
      "__________________________________________________________________________________________________\n",
      "None\n"
     ]
    }
   ],
   "source": [
    "inputs_K = Input(shape=(TIME_STEPS, INPUT_DIM))\n",
    "inputs_V = Input(shape=(TIME_STEPS, DIM_V))\n",
    "inputs_Q = Input(shape=(TIME_STEPS_Q, INPUT_DIM))\n",
    "inputs = [inputs_K,inputs_V ,inputs_Q]\n",
    "attention_mul =  KeyValueAttention1DLayer(similarity=\"additive\")(inputs)#MyLayer((20,32))(inputs)#\n",
    "lstm_units = 32\n",
    "attention_mul = LSTM(lstm_units, return_sequences=False)(attention_mul)\n",
    "output = Dense(1, activation='sigmoid')(attention_mul)\n",
    "m = Model(inputs=inputs, outputs=output)\n",
    "\n",
    "m.compile(optimizer='adam', loss='binary_crossentropy', metrics=['accuracy'])\n",
    "print(m.summary())"
   ]
  },
  {
   "cell_type": "code",
   "execution_count": 15,
   "metadata": {
    "collapsed": false
   },
   "outputs": [
    {
     "name": "stdout",
     "output_type": "stream",
     "text": [
      "__________________________________________________________________________________________________\n",
      "Layer (type)                    Output Shape         Param #     Connected to                     \n",
      "==================================================================================================\n",
      "input_10 (InputLayer)           (None, 30, 20, 32)   0                                            \n",
      "__________________________________________________________________________________________________\n",
      "input_11 (InputLayer)           (None, 30, 20, 64)   0                                            \n",
      "__________________________________________________________________________________________________\n",
      "input_12 (InputLayer)           (None, 13, 12, 32)   0                                            \n",
      "__________________________________________________________________________________________________\n",
      "key_value_attention2d_layer_1 ( (None, 12, 13, 32)   137136      input_10[0][0]                   \n",
      "                                                                 input_11[0][0]                   \n",
      "                                                                 input_12[0][0]                   \n",
      "__________________________________________________________________________________________________\n",
      "conv2d_3 (Conv2D)               (None, 12, 13, 2)    258         key_value_attention2d_layer_1[0][\n",
      "__________________________________________________________________________________________________\n",
      "dense_6 (Dense)                 (None, 12, 13, 1)    3           conv2d_3[0][0]                   \n",
      "==================================================================================================\n",
      "Total params: 137,397\n",
      "Trainable params: 137,397\n",
      "Non-trainable params: 0\n",
      "__________________________________________________________________________________________________\n",
      "None\n"
     ]
    }
   ],
   "source": [
    "inputs_K = Input(shape=(X,Y, INPUT_DIM))\n",
    "inputs_V = Input(shape=(X,Y, DIM_V))\n",
    "inputs_Q = Input(shape=(Xq,Yq, INPUT_DIM))\n",
    "inputs = [inputs_K,inputs_V,inputs_Q]\n",
    "attention_mul =  KeyValueAttention2DLayer(output_size=(12,13),similarity=\"additive\")(inputs)#MyLayer((20,32))(inputs)#\n",
    "lstm_units = 32\n",
    "attention_mul = Convolution2D(2,2,padding='same', activation= \"relu\")(attention_mul)\n",
    "output = Dense(1, activation='sigmoid')(attention_mul)\n",
    "m = Model(inputs=inputs, outputs=output)\n",
    "\n",
    "m.compile(optimizer='adam', loss='binary_crossentropy', metrics=['accuracy'])\n",
    "print(m.summary())"
   ]
  },
  {
   "cell_type": "code",
   "execution_count": 8,
   "metadata": {
    "collapsed": true
   },
   "outputs": [],
   "source": [
    "import numpy as np"
   ]
  },
  {
   "cell_type": "code",
   "execution_count": 9,
   "metadata": {
    "collapsed": true
   },
   "outputs": [],
   "source": [
    "x = np.array([[1,2,3,3,5],[1,2,3,3,5],[1,2,3,3,5]])"
   ]
  },
  {
   "cell_type": "code",
   "execution_count": 10,
   "metadata": {
    "collapsed": true
   },
   "outputs": [],
   "source": [
    "y = np.array([[1,2,3,3,5],[1,2,3,3,5],[1,2,3,3,5]])"
   ]
  },
  {
   "cell_type": "code",
   "execution_count": 11,
   "metadata": {
    "collapsed": false
   },
   "outputs": [
    {
     "data": {
      "text/plain": [
       "array([[ 1,  4,  9,  9, 25],\n",
       "       [ 1,  4,  9,  9, 25],\n",
       "       [ 1,  4,  9,  9, 25]])"
      ]
     },
     "execution_count": 11,
     "metadata": {},
     "output_type": "execute_result"
    }
   ],
   "source": [
    "x*y"
   ]
  },
  {
   "cell_type": "code",
   "execution_count": null,
   "metadata": {
    "collapsed": true
   },
   "outputs": [],
   "source": []
  }
 ],
 "metadata": {
  "kernelspec": {
   "display_name": "Python 3",
   "language": "python",
   "name": "python3"
  },
  "language_info": {
   "codemirror_mode": {
    "name": "ipython",
    "version": 3
   },
   "file_extension": ".py",
   "mimetype": "text/x-python",
   "name": "python",
   "nbconvert_exporter": "python",
   "pygments_lexer": "ipython3",
   "version": "3.6.0"
  }
 },
 "nbformat": 4,
 "nbformat_minor": 2
}
